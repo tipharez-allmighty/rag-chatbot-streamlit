{
 "cells": [
  {
   "cell_type": "markdown",
   "metadata": {},
   "source": [
    "Import necessary libraries and modules."
   ]
  },
  {
   "cell_type": "code",
   "execution_count": null,
   "metadata": {},
   "outputs": [],
   "source": [
    "!pip install -r requirements.txt"
   ]
  },
  {
   "cell_type": "code",
   "execution_count": 3,
   "metadata": {},
   "outputs": [],
   "source": [
    "import pandas as pd\n",
    "import numpy as np\n",
    "import time\n",
    "import os\n",
    "import uuid\n",
    "from pinecone import Pinecone, ServerlessSpec\n",
    "from langchain_pinecone import PineconeVectorStore\n",
    "from langchain_openai import ChatOpenAI, OpenAIEmbeddings\n",
    "from langchain.chains import RetrievalQA\n",
    "from langchain_core.prompts import PromptTemplate"
   ]
  },
  {
   "cell_type": "markdown",
   "metadata": {},
   "source": [
    "Retrieve environmental variables."
   ]
  },
  {
   "cell_type": "code",
   "execution_count": 4,
   "metadata": {},
   "outputs": [],
   "source": [
    "openai_key = os.getenv('OPENAI_API_KEY')\n",
    "pinecone_key = os.getenv('PINECONE_API_KEY')"
   ]
  },
  {
   "cell_type": "markdown",
   "metadata": {},
   "source": [
    "Prepare the dataset for further processing by renaming columns, creating unique IDs using the `uuid` library, and leaving the 'Vector' column empty."
   ]
  },
  {
   "cell_type": "code",
   "execution_count": 5,
   "metadata": {},
   "outputs": [],
   "source": [
    "columns = [\"ID\", \"Title\", \"Text\", \"Vector\"]\n",
    "data = pd.read_csv('technology_data.csv')\n",
    "data = data.drop(columns=['description','url','category'])\n",
    "data = data.head(50)\n",
    "data['ID'] = data.apply(lambda x: uuid.uuid4(), axis=1)\n",
    "data['Vector'] = np.nan\n",
    "data = data.rename(columns={'headlines':'Title','content':'Text'})\n",
    "data.insert(0, 'ID', data.pop('ID'))"
   ]
  },
  {
   "cell_type": "markdown",
   "metadata": {},
   "source": [
    "Save CSV file"
   ]
  },
  {
   "cell_type": "code",
   "execution_count": 6,
   "metadata": {},
   "outputs": [],
   "source": [
    "knowledge_base = 'knowledge_base.csv'\n",
    "data.to_csv(knowledge_base, sep='\\t',index=False)"
   ]
  },
  {
   "cell_type": "markdown",
   "metadata": {},
   "source": [
    "Read a CSV file containing the dataset and populate the 'Vector' column with OpenAI embeddings."
   ]
  },
  {
   "cell_type": "code",
   "execution_count": 20,
   "metadata": {},
   "outputs": [],
   "source": [
    "df_base = pd.read_csv(knowledge_base, sep='\\t')\n",
    "\n",
    "response = OpenAIEmbeddings(openai_api_key=openai_key,\n",
    "  model='text-embedding-3-small'\n",
    ")\n",
    "df_base['Vector'] = response.embed_documents(df_base['Text'])"
   ]
  },
  {
   "cell_type": "markdown",
   "metadata": {},
   "source": [
    "Initialize a Pinecone client with the provided Pinecone API key. Define dimensionality and choose 'cosine similarity' as the metric."
   ]
  },
  {
   "cell_type": "code",
   "execution_count": 8,
   "metadata": {},
   "outputs": [],
   "source": [
    "clientPine = Pinecone(api_key=pinecone_key)\n",
    "\n",
    "index_name = \"rag-db\"\n",
    "if index_name not in clientPine.list_indexes().names():\n",
    "    clientPine.create_index(\n",
    "        name=index_name,\n",
    "        dimension=len(df_base.loc[0,'Vector']),\n",
    "        metric='cosine',\n",
    "        spec=ServerlessSpec(\n",
    "            cloud=\"aws\",\n",
    "            region=\"us-east-1\"\n",
    "        ))\n",
    "    time.sleep(1)"
   ]
  },
  {
   "cell_type": "markdown",
   "metadata": {},
   "source": [
    "In this section, we upsert data into a Pinecone index. We iterate over each row in the base DataFrame (`df_base`) to prepare data for upsertion into the Pinecone index."
   ]
  },
  {
   "cell_type": "code",
   "execution_count": 9,
   "metadata": {},
   "outputs": [
    {
     "data": {
      "text/plain": [
       "{'upserted_count': 50}"
      ]
     },
     "execution_count": 9,
     "metadata": {},
     "output_type": "execute_result"
    }
   ],
   "source": [
    "index = clientPine.Index(index_name)\n",
    "\n",
    "upsert_data = []\n",
    "\n",
    "for idx, row in df_base.iterrows():\n",
    "    item = {\n",
    "        'id': row['ID'],\n",
    "        \"metadata\": {\n",
    "            \"title\": row['Title'],\n",
    "            \"text\": row['Text']\n",
    "        },\n",
    "        \"values\": row['Vector']\n",
    "    }\n",
    "    upsert_data.append(item)\n",
    "\n",
    "index.upsert(vectors=upsert_data, namespace='knowledge_base')"
   ]
  },
  {
   "cell_type": "markdown",
   "metadata": {},
   "source": [
    "Initialize a Pinecone Vector Store for efficient storage and retrieval of embeddings."
   ]
  },
  {
   "cell_type": "code",
   "execution_count": 29,
   "metadata": {},
   "outputs": [],
   "source": [
    "vector_store = PineconeVectorStore(index_name='rag-db',\n",
    "                                  embedding=OpenAIEmbeddings(\n",
    "                                  openai_api_key=openai_key,\n",
    "                                  model='text-embedding-3-small'),\n",
    "                                  pinecone_api_key=pinecone_key,\n",
    "                                  namespace=\"knowledge_base\")"
   ]
  },
  {
   "cell_type": "markdown",
   "metadata": {},
   "source": [
    "Define a function to generate a prompt template for a conversational AI system."
   ]
  },
  {
   "cell_type": "code",
   "execution_count": 23,
   "metadata": {},
   "outputs": [],
   "source": [
    "def get_prompt(instruction, examples, new_system_prompt):\n",
    "    SYSTEM_PROMPT = B_SYS + new_system_prompt + E_SYS\n",
    "    prompt_template =  SYSTEM_PROMPT + instruction  + \"\\n\" + examples\n",
    "    return prompt_template\n",
    "\n",
    "B_SYS, E_SYS = \"<<SYS>>\\n\", \"\\n<</SYS>>\\n\\n\"\n",
    "sys_prompt = \"\"\"\\\n",
    "You are a helpful, respectful and honest assistant designed to assist with. Always answer as helpfully as possible, while being safe. Your answers should not include any harmful, unethical, racist, sexist, toxic, dangerous, or illegal content. Please ensure that your responses are socially unbiased and positive in nature.\n",
    "If a question does not make any sense, or is not factually coherent, explain why instead of answering something not correct. If you don't know the answer to a question, please don't share false information.\"\"\"\n",
    "\n",
    "\n",
    "instruction = \"\"\"CONTEXT:/n/n {context}/n\n",
    "\"\"\"\n",
    "\n",
    "examples = \"\"\"\n",
    "Q: {question}\n",
    "A: \"\"\"\n",
    "template = get_prompt(instruction, examples, sys_prompt)"
   ]
  },
  {
   "cell_type": "markdown",
   "metadata": {},
   "source": [
    "Construct a prompt template for the Question-Answering (QA) Chain."
   ]
  },
  {
   "cell_type": "code",
   "execution_count": 24,
   "metadata": {},
   "outputs": [],
   "source": [
    "QA_CHAIN_PROMPT = PromptTemplate(\n",
    "    input_variables=[\"context\", \"question\"],\n",
    "    template=template,\n",
    ")"
   ]
  },
  {
   "cell_type": "markdown",
   "metadata": {},
   "source": [
    "We perform a similarity search using the `similarity_search` method of the `vector_store` object. The method takes the following parameters:\n",
    "- `query`: The query string representing the user query.\n",
    "- `k`: The number of nearest neighbors to retrieve (in this case, 3)."
   ]
  },
  {
   "cell_type": "code",
   "execution_count": 25,
   "metadata": {},
   "outputs": [
    {
     "name": "stdout",
     "output_type": "stream",
     "text": [
      "[Document(page_content='Apple has released iOS 17.3, the latest version of its mobile operating system for iPhones. One of the key new features is ‘Stolen Device Protection’, which adds extra security measures to protect users’ data if their phone gets stolen. This should be high on every iPhone user’s list to enable, as it better protects your information without any effort on your part.\\nWhen you turn on Stolen Device Protection, your iPhone will put limits on certain settings changes when it’s not in a familiar location like your home or workplace. If a thief unlocks your phone and tries to alter these settings, they’ll be required to authenticate with Face ID or Touch ID first. So even if they have your passcode, they can’t modify protected settings without also duplicating your biometrics – a near-impossible task.', metadata={'title': 'What is Apple’s new ‘Stolen Device Protection’ for iPhones and how to turn it on'}), Document(page_content='Apple is continuing to open up iOS to comply with new regulations from the European Union. Not only is the company enabling alternate browser engines on iOS for the first time ever, but Epic Games has also announced the eventual return of Fortnite to the platform.\\nEpic Games revealed it plans to launch the Epic Games Store on iOS devices and bring Fortnite back to the platform later this year, but only in Europe. Fortnite has been unavailable on iOS since 2020 when it was banned for violating App Store policies around in-app purchases.\\nThe return of Fortnite marks a major shift for Apple’s traditionally closed ecosystem. Epic CEO Tim Sweeney described Apple’s new rules allowing third-party app stores as “hot garbage” but said the company will take advantage of them regardless.\\nThe rules stem from the EU’s Digital Markets Act intended to rein in anti-competitive behavior from major tech companies like Apple. Part of the regulations require that users have the ability to uninstall pre-installed apps like Safari.\\nComplementing this change, iOS 17.4 will for the first time allow alternate browser engines beyond just Apple’s own WebKit. Google Chrome, Mozilla Firefox and Microsoft Edge have historically been forced to run on WebKit for iOS due to Apple’s restrictions.\\nNow, with iOS 17.4 which rolls out next month, developers can apply to use alternate engines like Chromium and Gecko. This will enable full functionality and extension support for third-party browsers available on iOS in Europe.\\nBoth these developments represent a blow to the walls of Apple’s walled garden. While falling short of fully opening iOS, they demonstrate Apple bending its strict App Store policies in order to comply with the DMA.\\nADVERTISEMENT\\nThe DMA aims to give users more choice over their devices and create a more level playing field between Apple and small developers. Epic Games’ Tim Sweeney said these goals are undermined by the restrictions Apple still has in place like its commission on in-app purchases.\\nNonetheless, the return of Fortnite and availability of alternate browsers are milestones in increased competition on iOS. It remains to be seen whether Apple will expand these allowances globally in the face of similar regulatory pressure elsewhere. For now, European iOS users will enjoy options long desired but forbidden by Apple’s tight control over its ecosystem.', metadata={'title': 'Epic’s Fortnite and new browser engines show cracks in Apple’s walled garden'}), Document(page_content=\"The world of technology is always buzzing with the latest developments and happenings. From new smartphone launches to major company announcements, there is never a dull day. Let’s dive into the top 5 tech news stories making waves today.\\n01\\nJio and OnePlus join hands to announce strategic 5G tech partnership\\nIndian telecom giant Reliance Jio has joined forces with smartphone brand OnePlus in a bid to fully tap into the possibilities of 5G technology in the country. The collaboration will see both companies set up an innovation lab dedicated to developing India-centric 5G solutions and ensuring unmatched 5G experiences for users.\\n02\\nMicrosoft lays off 1,900 employees in gaming division\\nIn a bid to eliminate redundancies, Microsoft has reportedly laid off around 1,900 employees from its gaming division. As per a memo by Microsoft Gaming CEO Phil Spencer, the layoffs will help the company invest in high-growth areas and bring more games to more users globally. The gaming division had over 22,000 employees prior to the job cuts.\\n03\\nThe Pokemon Company may take action against Palworld\\nThe Pokemon Company has issued an official statement saying it intends to investigate and address any intellectual property infringements by the new survival game Palworld. While not naming Palworld directly, the company said it has not authorised the use of any Pokemon IP in the game, it says. The statement comes amid Palworld's rising popularity and claims that its creatures resemble Pokemon.\\n04\\nHow to use WhatsApp stickers to spread cheer on India's 75th Republic Day\\nAs India celebrates its 75th Republic Day on January 26th, WhatsApp stickers are emerging as a fun way to commemorate the occasion. patriotic stickers are available on apps like Sticker.ly for free. Users can download sticker packs and share them with contacts to spread the Republic Day spirit. Here's how you can do so.\\n05\\niOS 17.4 to allow alternative browser engines\\nIn a major change, Apple's upcoming iOS 17.4 update will enable alternative browser engines on iPhones and iPads in the EU. The shift comes as Apple looks to comply with new regulations. Currently, all iOS browsers run on the WebKit engine that also powers Safari. The update will allow developers to integrate non-WebKit engines after meeting Apple's privacy and security criteria.\", metadata={'title': 'Tech News Today: Jio and OnePlus join hands for 5G innovation, Microsoft lays off 1,900, and more'})]\n"
     ]
    }
   ],
   "source": [
    "query = \"Apple has released iOS 17.3\"\n",
    "doc = vector_store.similarity_search(\n",
    "    query,\n",
    "    k=3\n",
    ")\n",
    "print(doc)"
   ]
  },
  {
   "cell_type": "markdown",
   "metadata": {},
   "source": [
    "Set up a Conversational AI system using OpenAI's GPT-4 model and a Retrieval-based Question-Answering (QA) chain."
   ]
  },
  {
   "cell_type": "code",
   "execution_count": 26,
   "metadata": {},
   "outputs": [],
   "source": [
    "llm = ChatOpenAI(model_name='gpt-4', max_tokens=488,\n",
    "                 temperature=0,\n",
    "                 model_kwargs={\"stop\": [\"\\nQ:\", \"\\nA:\"]},api_key=openai_key)\n",
    "\n",
    "qa_chain = RetrievalQA.from_chain_type(\n",
    "    llm,\n",
    "    chain_type=\"stuff\",\n",
    "    retriever=vector_store.as_retriever(),\n",
    "    chain_type_kwargs={\"prompt\": QA_CHAIN_PROMPT},\n",
    ")"
   ]
  },
  {
   "cell_type": "markdown",
   "metadata": {},
   "source": [
    "In this section, we initiate a conversational query to the QA Chain to check if we can receive a response based on our data."
   ]
  },
  {
   "cell_type": "code",
   "execution_count": 27,
   "metadata": {},
   "outputs": [
    {
     "name": "stdout",
     "output_type": "stream",
     "text": [
      "According to the prediction by Omdia analyst Hiroshi Hayase, the successor to the Nintendo Switch, often referred to as the \"Nintendo Switch 2,\" could feature an 8-inch LCD screen. This would be a significant increase from the 6.2-inch and 7-inch displays found on the original Switch and Switch OLED models respectively. However, Nintendo has not officially confirmed these details yet.\n"
     ]
    }
   ],
   "source": [
    "query = \"What about Nintendo new screen?\"\n",
    "doc = qa_chain.invoke(query)['result']\n",
    "print(doc)"
   ]
  }
 ],
 "metadata": {
  "kernelspec": {
   "display_name": "base",
   "language": "python",
   "name": "python3"
  },
  "language_info": {
   "codemirror_mode": {
    "name": "ipython",
    "version": 3
   },
   "file_extension": ".py",
   "mimetype": "text/x-python",
   "name": "python",
   "nbconvert_exporter": "python",
   "pygments_lexer": "ipython3",
   "version": "3.11.7"
  }
 },
 "nbformat": 4,
 "nbformat_minor": 2
}
